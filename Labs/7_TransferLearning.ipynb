{
 "cells": [
  {
   "cell_type": "markdown",
   "id": "95325261",
   "metadata": {},
   "source": [
    "# CSCI E-25      \n",
    "## Transfer Learning and Data Augmentation  \n",
    "### Steve Elston\n",
    "\n",
    "## Introduction\n",
    "\n",
    "**Transfer learning** and **data augmentation** are important approaches to paractical use of deep neural network models for computer vision. You will work with examples of each of these methods.    "
   ]
  },
  {
   "cell_type": "markdown",
   "id": "21297feb",
   "metadata": {},
   "source": [
    "### Transfer learning   \n",
    "Transfer learning employes deep neural network models which have been previously trained on large datasets. This pretraining can require enourmous computing resources, as well as massive datasets. These resources are often not available in practice. The dataset available for a particular prblem may be too small, or the computing resources may not be available for the project.  \n",
    "\n",
    "Most deep learning platforms have a module of pre-trained models. You can find an [extensice list of optipns for Keras](https://keras.io/api/applications/). \n",
    "\n",
    "Instead, we can use a model with weights trained previously on other datasets. We stay that we **transfer** the learning from one task **learned** with some traning data to another task with different image characteristics. This process is known as **transfer learning**. \n",
    "\n",
    "In most cases of transfer learning there are two major components of the model, a **backbone network** and a **head**. The pre-trained **backbone** network produces a feature map. A head, placed on the backbone, performs the task-specific learning. Examples of task-specific learning include:   \n",
    "- **Object classification:** Our goal for the exercises in this lesson.  \n",
    "- **Object detection:** Fine the objects in an image.  \n",
    "- **Semantic segmentation:** Detect and label the types of 'things' in an image.  \n",
    "- **Object tracking:** Track how the bjects in an series of images (a video) are moving.   \n",
    "\n",
    "There are several approaches to task-specific traning with transfer learning:     \n",
    "\n",
    "**Frozen backbone network:** The weights of the backbone network are frozen and the resulting feature map is used directly. The weights of the task-specific head are learned using case-specific data. This approach minimizes the amound of traning data requried, since only the weights of the head need be trained. This approach leads to methods known as **few shot training** for a specific case of a task. Accuracy may be sacrificed since the feature map is not optimized for the task.         \n",
    "\n",
    "**Fine tune traning of the backbone network:** Weights of the task specific head are learned using the case-speific data. At the same time, the weights of the backbone network are **fine-tuned** for the task. In many cases, only a few epochs are required for fine tuning. This second approaceh often provides better performance, since the feature map produced by the backbone is more likely to have features specific for the task. However, fine tuning of the backbone network may fail if there is insufficient data to effectively train the additional weights.     \n",
    "\n"
   ]
  },
  {
   "cell_type": "markdown",
   "id": "970a5007",
   "metadata": {},
   "source": [
    "### Data augmentation     \n",
    "\n",
    "Even with good pre-training, sufficient task-specific data may not be available even to learn the required weights using transfer learning. In such cases one can apply **data augmentation**.  The process of data augmenation creats new traning samples from existing training images. The new image samples are created by **randomly** appling one or more **transformations** to the original image. The label of the transformed image is the same as the original image. Yet, given the randomly chosen transformations applied, the new image will have different characteristics. Further, since the transformations are random in nature, several new samples can be created from the same original image. Thus, augmented data will help tranin models to have better generalization. \n",
    "\n",
    "Deep learning platforms include packages for standard random data augmentation. For example, in the Keras documentation you can find [examples of applying random transformations](https://www.tensorflow.org/tutorials/images/data_augmentation) to augment image data. \n",
    "\n",
    "Examples of random transformations which can be used to augment image traning data include:   \n",
    "1. Random rotation.     \n",
    "2. Random translation along either or both axes.  \n",
    "3. Random cropping of the image followed by resizing to the original size. \n",
    "4. Flipping the transformed image to create a mirror image.   \n",
    "5. Randomly adjusting the contrast of the image.   \n",
    "6. Adding Gaussian or other noise to the image.  \n",
    "7. Independently applying random brightness adjsutments to the histograms of the color channels. \n",
    "8. Randomly down sampling followed by resizing.  \n"
   ]
  },
  {
   "cell_type": "markdown",
   "id": "704553d2",
   "metadata": {},
   "source": [
    "## Example Notebook   \n",
    "\n",
    "For these exercises you will use the [Image classification via fine-tuning with Efficientnet](https://keras.io/examples/vision/image_classification_efficientnet_fine_tuning/) Keras example notebook. This notebook uses the pre-trained **EfficientnetB0** model, the smallest model in the EfficientNet family introduced by [Tan and Le, 2019](https://arxiv.org/abs/1905.11946). This version of the model is faster to train and faster at inference, but at a sacrifice in accuracy.   \n",
    "\n",
    "To run the notebook you will need a [Google Colabratory account](https://colab.research.google.com/) if you do not already have one. Log into your google account. Start on the [Image classification via fine-tuning with Efficientnet](https://keras.io/examples/vision/image_classification_efficientnet_fine_tuning/) page. Then, click the `View in Colab` tab to start the notebook in Colab (but do not execute yet!). Alternatively, you may want to run this notebook locally, if you have the resources.     "
   ]
  },
  {
   "cell_type": "markdown",
   "id": "42b146af",
   "metadata": {},
   "source": [
    "### The Dataset   \n",
    "\n",
    "The [Stanford Dogs](http://vision.stanford.edu/aditya86/ImageNetDogs/main.html) dataset contains over 20,000 images of 120 dog breeds. The goal for a classifier is to learn to classify dog breeds correctly.    "
   ]
  },
  {
   "cell_type": "markdown",
   "id": "1519cbb6",
   "metadata": {},
   "source": [
    "\n",
    "\n",
    "### Modifications to the Notebook   \n",
    "\n",
    "Before you attempt to run this notebook in Colab you must make two changes.  \n",
    "\n",
    "1. **Work around bugs in augmentation.** The example in the notebook uses [TensorFlow data augmentation](https://www.tensorflow.org/tutorials/images/data_augmentation). A bug in TensorFlow versions > 2.8.x makes [augmentation run extremely slowly and with many warnings](https://stackoverflow.com/questions/73304934/tensorflow-data-augmentation-gives-a-warning-using-a-while-loop-for-converting). Therefore, you must roll-back the current version of TensorFlow in colab to version 2.8.3. To do so, add a code cell before any other import with the following code.    "
   ]
  },
  {
   "cell_type": "raw",
   "id": "eb01dff1",
   "metadata": {},
   "source": [
    "!pip uninstall tensorflow -y\n",
    "!pip install -U \"tensorflow==2.8.3\"\n",
    "import tensorflow\n",
    "print('TensorFlow version = ' + str(tensorflow.__version__))"
   ]
  },
  {
   "cell_type": "markdown",
   "id": "80c6b334",
   "metadata": {},
   "source": [
    "When you execute the notebook the above code will generate a significant amount of printed output. Check that the last two lines read as follows:   "
   ]
  },
  {
   "cell_type": "raw",
   "id": "965c13fa",
   "metadata": {},
   "source": [
    "Successfully installed keras-2.8.0 keras-preprocessing-1.1.2 tensorboard-2.8.0 tensorflow-2.8.3 tensorflow-estimator-2.8.0\n",
    "TensorFlow version = 2.8.3"
   ]
  },
  {
   "cell_type": "markdown",
   "id": "ff811dce",
   "metadata": {},
   "source": [
    "2. To obtain a better understanding of the learning of the model substitute the code shown below for the code in the cell following the `Training the Model from Scratch` code cell.     "
   ]
  },
  {
   "cell_type": "raw",
   "id": "59e47c5e",
   "metadata": {},
   "source": [
    "import matplotlib.pyplot as plt\n",
    "\n",
    "def plot_hist(hist):\n",
    "    _,ax = plt.subplots(1,2, figsize = (12,6))\n",
    "    ax[0].plot(hist.history[\"accuracy\"])\n",
    "    ax[0].plot(hist.history[\"val_accuracy\"])\n",
    "    ax[0].set_title(\"model accuracy\")\n",
    "    ax[0].set_ylabel(\"accuracy\")\n",
    "    ax[0].set_xlabel(\"epoch\")\n",
    "    ax[0].legend([\"train\", \"validation\"], loc=\"upper left\")\n",
    "    ax[1].plot(hist.history[\"loss\"])\n",
    "    ax[1].plot(hist.history[\"val_loss\"])\n",
    "    ax[1].set_title(\"model loss\")\n",
    "    ax[1].set_ylabel(\"loss\")\n",
    "    ax[1].set_xlabel(\"epoch\")\n",
    "    ax[1].legend([\"train\", \"validation\"], loc=\"upper right\")\n",
    "    plt.show()\n",
    "\n",
    "plot_hist(hist)"
   ]
  },
  {
   "cell_type": "markdown",
   "id": "68757a34",
   "metadata": {},
   "source": [
    "### Steps to submit notebook   \n",
    "\n",
    "Once you have successfully exectued your notebook in colab you must use `Save a copy in Drive` to save any of your work in your [GoogleDrive account](https://support.google.com/drive/answer/2424384?hl=en&co=GENIE.Platform%3DDesktop). You can then download the notebook from your GoogleDrive account and upload it into Canvas for submission.   "
   ]
  },
  {
   "cell_type": "markdown",
   "id": "c962f8e7",
   "metadata": {},
   "source": [
    "## Understabing the Code   \n",
    "\n",
    "Before proceeding, it is worthwhile to understand some key aspects of the code.\n",
    "\n",
    "### Importing the pre-trained model  \n",
    "\n",
    "Under the heading, *Keras implementation of EfficientNet*, code to import and configure [EfficientNetB0](https://keras.io/api/applications/efficientnet/) is described. Examine the code:  "
   ]
  },
  {
   "cell_type": "raw",
   "id": "a973446f",
   "metadata": {},
   "source": [
    "from tensorflow.keras.applications import EfficientNetB0\n",
    "model = EfficientNetB0(include_top=False, weights='imagenet')"
   ]
  },
  {
   "cell_type": "markdown",
   "id": "b8a9ad4d",
   "metadata": {},
   "source": [
    "In transfer learning the feature map generating convolutional layers are pre-trained. These pre-trained layers constitued a **convolutional backbone**. A new head is added on top of the backbone and trained for the specific task. The argument `include_top=False` creates a model object without the head.     \n",
    "\n",
    "The `weights='imagenet'` argument creates a model object with weights learned by supervised learning with the large [ImageNet dataset](https://www.image-net.org/). These weights for the convolutional backbone layers for the creation of a rich feature maps without additional traning.   "
   ]
  },
  {
   "cell_type": "markdown",
   "id": "f7f482f3",
   "metadata": {},
   "source": [
    "### Load the dataset and resize the images. \n",
    "\n",
    "The next several code cells import the Stanford Dogs dataset, and resizes the images to $253 \\times 253$ pixels, as required by EfficientNetB0. The Stanford Dogs dataset comes with independently sampled train and test sets.\n",
    "\n",
    "The code in the cell of the *Visualizing Data* subsection displays a sample of the dog images. Notice about the following about these images:   \n",
    "1. The are different crops and angles for the dog in each image.    \n",
    "2. The dog in the images have a variety of scales.  \n",
    "3. Some images have other objects.   "
   ]
  },
  {
   "cell_type": "markdown",
   "id": "77efbb5a",
   "metadata": {},
   "source": [
    "### Data augmentation    \n",
    "\n",
    "Very often only limited task-specific training data is available. In such cases, **augmentting** the training data can be an effictive preprocessing step.  The code in the *Data augmentation* section performs a series of random data augmenation steps. The code in the second cell of this section displays a sample of agmentated verisons of one image.Examine these results.   \n",
    "\n",
    "> **Exercise 7-1:** Answer these questions:   \n",
    "> 1. Which augmentation methods are applied to the images?    \n",
    "> 3. Describe some of the ways you can observed the multiple-transformation agumentation manifest in the displayed samples?   "
   ]
  },
  {
   "cell_type": "markdown",
   "id": "251fe5be",
   "metadata": {},
   "source": [
    "> **Answers:**    \n",
    "> 1.     \n",
    "> 2.    "
   ]
  },
  {
   "cell_type": "markdown",
   "id": "a8a20841",
   "metadata": {},
   "source": [
    "### Training the model     \n",
    "\n",
    "The remainder of the notebook contains code for traning the model by three different approaches. Examine the code and notice the three different traning approaches:    \n",
    "1. **Training from scratch:** In this case no pre-trained weights are used. The model weights are learned from scratch using the training data.     \n",
    "2. **Trainng the head with frozen backbone weight:** In this case, the weights of the classification head of the model are trained, with the backbone weights frozen. In other words, the feature map is created from the pretrained weights. The feature map is used by the classifier head. The classifier uses weights learned from the training data. Notice in the code for the *Transfer learning from pre-trained weights* section of the notebook* the model object is created with the  following line of code, excluding the head.            "
   ]
  },
  {
   "cell_type": "raw",
   "id": "173ffe61",
   "metadata": {},
   "source": [
    "model = EfficientNetB0(include_top=False, input_tensor=x, weights=\"imagenet\")"
   ]
  },
  {
   "cell_type": "markdown",
   "id": "04547bd0",
   "metadata": {},
   "source": [
    "3. **Fine tuning weights:** In some caes, it is possible to improve model performance by **fine tuning** the weights of the backbone. The fine tuning can result in a feature map better suited to the feature specific to images used for the particular case. Once the model in the notebook is trained with the fronzen backbone weights, the weights of the trainable layers are made `trainable`, or unfrozen.  "
   ]
  },
  {
   "cell_type": "raw",
   "id": "37cb8169",
   "metadata": {},
   "source": [
    "for layer in model.layers[-20:]:\n",
    "        if not isinstance(layer, layers.BatchNormalization):\n",
    "            layer.trainable = True"
   ]
  },
  {
   "cell_type": "markdown",
   "id": "ee4a3cac",
   "metadata": {},
   "source": [
    "## Executing the Code and Examining the Results      \n",
    "\n",
    "You are now ready to execute the code in the notebook. Do so, and allow the code to run to completion.       \n",
    "\n",
    "**Warning!! Expect slow execution!** It appears that the model is intended to be run using **Tensor Processing Units (TPUs)** rather than GPUs. However, configuring the environment to work correctly with TPUs is quite challenging. Further, a dedicated Google cloud storeage account (not GoogleDrive) appears to be required. The notebook will execute with the above modifications, but slowly. Over 2 minute per epoch is required for the untrained model. Models using transfer learning require about a minute or less per epoch.    \n",
    "\n",
    "The entire notebook can be executed from the menu at the top from `Runtime -> Run all`. As noted above, execution will take some time."
   ]
  },
  {
   "cell_type": "markdown",
   "id": "8e11cf30",
   "metadata": {},
   "source": [
    "> **Exercise 7-2:** Examine the results of traning from scratch and answer these quesitons:   \n",
    "> 1. Based on the training loss and error rate, is the model continuing to learn over the epochs.     \n",
    "> 2. Based on the training and test losses and error rates, does the model show generalizatation as the the training epochs progress.       "
   ]
  },
  {
   "cell_type": "markdown",
   "id": "4df11871",
   "metadata": {},
   "source": [
    "> **Answers:**   \n",
    "> 1.      \n",
    "> 2.    "
   ]
  },
  {
   "cell_type": "markdown",
   "id": "ef14e869",
   "metadata": {},
   "source": [
    "> **Exercise 7-3:** Next, examine the results from the pretraned backbone (fronzen weight) model trained in the *Transfer learning from pre-trained weights* section of the notebook, then answer the following questions.     \n",
    "> 1. In terms of traning and test loss and accuracy, describe the progress of the training of the head?    \n",
    "> 2. What evidence is there that the model will generalize?   "
   ]
  },
  {
   "cell_type": "markdown",
   "id": "f969f4e0",
   "metadata": {},
   "source": [
    "> **Answers:**      \n",
    "> 1.     \n",
    "> 2.     "
   ]
  },
  {
   "cell_type": "markdown",
   "id": "b001da51",
   "metadata": {},
   "source": [
    "> **Exercise 7-4:** Examine the results of the fine tuning withe the unfrozen backbone weights and answer these questions:     \n",
    "> 1. Comparing the validation loss and accuracy of the last epochs of the model with frozen backbone weights and the fine tuning with the unfrozen weights. Has the fine tuning improved the overall model performance and why?          \n",
    "> 2. Is there any additional fine-tune learning after the first epoch and why?      "
   ]
  },
  {
   "cell_type": "markdown",
   "id": "d443d793",
   "metadata": {},
   "source": [
    "> **Answers:**     \n",
    "> 1.     \n",
    "> 2.     "
   ]
  },
  {
   "cell_type": "markdown",
   "id": "5f6a1261",
   "metadata": {},
   "source": [
    "#### Copyright 2023, Stephen F Elston. All rights reserved.  "
   ]
  }
 ],
 "metadata": {
  "kernelspec": {
   "display_name": "Python 3 (ipykernel)",
   "language": "python",
   "name": "python3"
  },
  "language_info": {
   "codemirror_mode": {
    "name": "ipython",
    "version": 3
   },
   "file_extension": ".py",
   "mimetype": "text/x-python",
   "name": "python",
   "nbconvert_exporter": "python",
   "pygments_lexer": "ipython3",
   "version": "3.9.13"
  }
 },
 "nbformat": 4,
 "nbformat_minor": 5
}
