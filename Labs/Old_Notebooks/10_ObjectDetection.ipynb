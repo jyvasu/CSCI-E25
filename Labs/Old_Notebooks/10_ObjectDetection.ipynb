{
 "cells": [
  {
   "cell_type": "markdown",
   "id": "ccc2e792",
   "metadata": {},
   "source": [
    "# CSCI E-25      \n",
    "## Object Detection\n",
    "### Steve Elston\n",
    "\n",
    "## Introduction  \n",
    "\n",
    "In this assignment you will respond with short answers to a few questions about object detection algorithms. These exercises are conceptual and require no coding.  "
   ]
  },
  {
   "cell_type": "markdown",
   "id": "9814ec76",
   "metadata": {},
   "source": [
    "> **Exercise 10-1:** Object detection is in the class of **multi-task** AI algorithms. Provide a short answer to the following questions:  \n",
    "> 1. What are the two tasks required for object detection and what is their purpose? \n",
    "> 2. How are the single shot algorithms, such as YOLO and SSD, fundamentally different from previous generations of object detection algorithms such as R-CNN?"
   ]
  },
  {
   "cell_type": "markdown",
   "id": "f3b977f7",
   "metadata": {},
   "source": [
    "> **Answers:** \n",
    "> 1.    \n",
    "> 2.   "
   ]
  },
  {
   "cell_type": "markdown",
   "id": "a3fb1666",
   "metadata": {},
   "source": [
    "> **Exercise 10-2:** In one or two sentences answer the following:   \n",
    "> 1. Explain why algorithms like SSD and the various versions of YOLO considered fully convolutional neural networks. \n",
    "> 2. What are the output values of the the fully convolutional neural networks, for both location and confidence. "
   ]
  },
  {
   "cell_type": "markdown",
   "id": "49fc173c",
   "metadata": {},
   "source": [
    "> **Answers:** \n",
    "> 1.   \n",
    "> 2.   "
   ]
  },
  {
   "cell_type": "markdown",
   "id": "1b08a50a",
   "metadata": {},
   "source": [
    "> **Exercise 10-3:** One of several challenging problems in object detection is the differing scale of objects that must be detected and localized. The YOLO and SSD models take very different approaches to this problem. In a few sentences, describe the differences in these approaches.   "
   ]
  },
  {
   "cell_type": "markdown",
   "id": "cfb3c1d7",
   "metadata": {},
   "source": [
    "> **Answer:**   "
   ]
  },
  {
   "cell_type": "markdown",
   "id": "d11cae7f",
   "metadata": {},
   "source": [
    "> **Exercise 10-4:** Multi-task loss functions have an inherent trade-off between tasks. For the SSD algorithm this trade-off is between object confidence loss and location accuracy loss, with a hyperparameter designated $\\alpha$. Cross validation experiments by [Lui et. al., 2016](https://arxiv.org/abs/1512.02325) found the optimal value of mAP was achieved for $\\alpha = 1.0$. In one or two sentences, explain what does this result tell you about the relative importance of object confidence vs. bounding box accuracy.   "
   ]
  },
  {
   "cell_type": "markdown",
   "id": "9112299a",
   "metadata": {},
   "source": [
    "> **Answer:**   "
   ]
  },
  {
   "cell_type": "markdown",
   "id": "10eaf0d0",
   "metadata": {},
   "source": [
    "> **Exercise 10-5:** In one or two sentences answer the following questions:   \n",
    "> 1. Explain why intersection over union (IoU) is a good metric for bounding box accuracy.  \n",
    "> 2. How can you interpret an IoU score. \n",
    "> 3. What are the limits of possible values and what do they mean? "
   ]
  },
  {
   "cell_type": "markdown",
   "id": "c48d2116",
   "metadata": {},
   "source": [
    "> **Answers:** \n",
    "> 1.    \n",
    "> 2.    \n",
    "> 3.   "
   ]
  },
  {
   "cell_type": "markdown",
   "id": "576288b5",
   "metadata": {},
   "source": [
    "> **Exercise 10-6:** In one or two sentences, answer the following questions about management of negative cases.  \n",
    "> 1. Why is non-maximal suppression of bounding boxes required for object detection? \n",
    "> 2. How can non-maximal suppression improve class imbalance when training object detection algorithms? "
   ]
  },
  {
   "cell_type": "markdown",
   "id": "226a422f",
   "metadata": {},
   "source": [
    "> **Answers:**\n",
    "> 1.    \n",
    "> 2.   "
   ]
  },
  {
   "cell_type": "markdown",
   "id": "f59f7f86",
   "metadata": {},
   "source": [
    "#### Copyright 2022, Stephen F Elston. All rights reserved. "
   ]
  }
 ],
 "metadata": {
  "kernelspec": {
   "display_name": "Python 3 (ipykernel)",
   "language": "python",
   "name": "python3"
  },
  "language_info": {
   "codemirror_mode": {
    "name": "ipython",
    "version": 3
   },
   "file_extension": ".py",
   "mimetype": "text/x-python",
   "name": "python",
   "nbconvert_exporter": "python",
   "pygments_lexer": "ipython3",
   "version": "3.9.13"
  }
 },
 "nbformat": 4,
 "nbformat_minor": 5
}
